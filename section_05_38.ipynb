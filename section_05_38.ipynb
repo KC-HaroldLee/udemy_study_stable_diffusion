{
 "cells": [
  {
   "cell_type": "markdown",
   "metadata": {},
   "source": [
    "##### Nope! 프롬프트만 가지고 노는건 흥미 없어서 스킵"
   ]
  }
 ],
 "metadata": {
  "language_info": {
   "name": "python"
  }
 },
 "nbformat": 4,
 "nbformat_minor": 2
}
